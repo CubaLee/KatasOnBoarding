{
 "cells": [
  {
   "cell_type": "code",
   "execution_count": null,
   "metadata": {},
   "outputs": [],
   "source": []
  }
 ],
 "metadata": {
  "language_info": {
   "name": "python"
  },
  "orig_nbformat": 4
 },
 "nbformat": 4,
 "nbformat_minor": 2
}

def main():
    open("/path/to/mars.jpg")

if __name__ == '__main__':
    main()

python3 open.py
Traceback (most recent call last):
  File "/tmp/open.py", line 5, in <module>
    main()
  File "/tmp/open.py", line 2, in main
    open("/path/to/mars.jpg")
FileNotFoundError: [Errno 2] No such file or directory: '/path/to/mars.jpg'

## Controlando las excepciones
try:
open('config.txt')
except FileNotFoundError:
print("Couldn't find the config.txt file!")

Couldn't find the config.txt file!
