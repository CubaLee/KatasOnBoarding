{
 "cells": [
  {
   "cell_type": "code",
   "execution_count": 1,
   "metadata": {},
   "outputs": [],
   "source": [
    "## if expresion_prueba:\n",
    "    # instrucción (es) a ejecutar\n",
    "   ## if expresion_prueba:\n",
    "        # instrucción(es) a ejecutar\n",
    "    ## else:\n",
    "        # instrucción(es) a ejecutar\n",
    "## elif expresion_prueba:\n",
    "    # instrucción(es) a ejecutar\n",
    "## else:\n",
    "    # instrucción(es) a ejecutar"
   ]
  },
  {
   "cell_type": "markdown",
   "metadata": {},
   "source": [
    "## Ejercicio - Escribir declaraciones if, else, y elif"
   ]
  },
  {
   "cell_type": "code",
   "execution_count": 2,
   "metadata": {},
   "outputs": [
    {
     "name": "stdout",
     "output_type": "stream",
     "text": [
      "El asteroide viaja a una velocidad superior al límite. ADVERTENCIA.\n"
     ]
    }
   ],
   "source": [
    "## escribirás una lógica condicional que imprima una advertencia si un asteroide se acerca a la Tierra demasiado rápido. La velocidad del asteroide varía dependiendo de lo cerca que esté del sol, y cualquier velocidad superior a 25 kilómetros por segundo (km/s) merece una advertencia.\n",
    "## Un asteroide se acerca, y viaja a una velocidad de 49 km/s.\n",
    "\n",
    "velocidad_limite = 25   ## km/s\n",
    "velocidad_asteroide = 49  ## km/s\n",
    "\n",
    "if velocidad_asteroide < velocidad_limite:\n",
    "    print(\"El asteroide viaja en un rango de velocidad inferior al límite. Sin problemas.\")\n",
    "   \n",
    "elif velocidad_asteroide == velocidad_limite:\n",
    "    print(\"El asteroide viaja en la velocidad límite. Precaución.\") \n",
    "    \n",
    "else:\n",
    "    print(\"El asteroide viaja a una velocidad superior al límite. ADVERTENCIA.\")\n",
    "    "
   ]
  },
  {
   "cell_type": "code",
   "execution_count": 5,
   "metadata": {},
   "outputs": [
    {
     "name": "stdout",
     "output_type": "stream",
     "text": [
      "Lamentablemente, no se podra ver el rayo de luz desde la Tierra producida por el asteroide.\n"
     ]
    }
   ],
   "source": [
    "## Si un asteroide entra en la atmósfera de la Tierra a una velocidad mayor o igual a 20 km/s, a veces produce un rayo de luz que se puede ver desde la Tierra. Escribe la lógica condicional que usa declaraciones if, else, y elif para alertar a las personas de todo el mundo que deben buscar un asteroide en el cielo. ¡Hay uno que se dirige a la tierra ahora a una velocidad de 19 km/s!\n",
    "\n",
    "velocidad_prod_rayoluz = 20  ## km/s\n",
    "velocidad_asteroide = 19  ## km/s\n",
    "\n",
    "if velocidad_asteroide < velocidad_prod_rayoluz:\n",
    "    print(\"Lamentablemente, no se podra ver el rayo de luz desde la Tierra producida por el asteroide.\")\n",
    "   \n",
    "elif velocidad_asteroide == velocidad_prod_rayoluz:\n",
    "    print(\"Se verá un rayo de luz desde la Tierra producida por el asteroide. Miren al cielo y busquen el asteroide\") \n",
    "     \n",
    "else:\n",
    "    print(\"Se verá un rayo de luz desde la Tierra producida por el asteroide. Miren al cielo y busquen el asteroide\")"
   ]
  },
  {
   "cell_type": "markdown",
   "metadata": {},
   "source": [
    "## Ejercicio: Uso de operadores and y  or"
   ]
  },
  {
   "cell_type": "code",
   "execution_count": 8,
   "metadata": {},
   "outputs": [
    {
     "name": "stdout",
     "output_type": "stream",
     "text": [
      "El asteroide viaja a una velocidad superior al límite. ADVERTENCIA.\n",
      "Se verá un rayo de luz desde la Tierra producida por el asteroide. Miren al cielo y busquen el asteroide.\n",
      "El asteroide se quemará a medida de que entre en la atmósfera de la Tierra. Sin problemas.\n"
     ]
    }
   ],
   "source": [
    "velocidad_limite = 25   ## km/s\n",
    "velocidad_prod_rayoluz = 20  ## km/s\n",
    "velocidad_asteroide = 49  ## km/s\n",
    "dimension_asteroide = 24 ## m 25< quemara a medida de que entra 25 - 1000 causara mucho daño \n",
    "\n",
    "if velocidad_asteroide < velocidad_limite:\n",
    "    print(\"El asteroide viaja en un rango de velocidad inferior al límite. Sin problemas.\")\n",
    "   \n",
    "elif velocidad_asteroide == velocidad_limite:\n",
    "    print(\"El asteroide viaja en la velocidad límite. Precaución.\") \n",
    "    \n",
    "else:\n",
    "    print(\"El asteroide viaja a una velocidad superior al límite. ADVERTENCIA.\")\n",
    "\n",
    "\n",
    "   \n",
    "if velocidad_asteroide == velocidad_prod_rayoluz or velocidad_asteroide > velocidad_prod_rayoluz:\n",
    "    print(\"Se verá un rayo de luz desde la Tierra producida por el asteroide. Miren al cielo y busquen el asteroide.\") \n",
    "     \n",
    "else:\n",
    "    print(\"Lamentablemente, no se podra ver el rayo de luz desde la Tierra producida por el asteroide.\")  \n",
    "\n",
    "if dimension_asteroide > 25 and dimension_asteroide < 1000: \n",
    "    print(\"PELIGRO. Un asteroide causará mucho daño. PELIGRO.\")\n",
    "elif dimension_asteroide < 25:\n",
    "    print(\"El asteroide se quemará a medida de que entre en la atmósfera de la Tierra. Sin problemas.\")"
   ]
  }
 ],
 "metadata": {
  "interpreter": {
   "hash": "258000e747ac846164df80accd505ab1dbb6368f5070d80837aa544707bc40ee"
  },
  "kernelspec": {
   "display_name": "Python 3.10.2 64-bit",
   "language": "python",
   "name": "python3"
  },
  "language_info": {
   "codemirror_mode": {
    "name": "ipython",
    "version": 3
   },
   "file_extension": ".py",
   "mimetype": "text/x-python",
   "name": "python",
   "nbconvert_exporter": "python",
   "pygments_lexer": "ipython3",
   "version": "3.10.2"
  },
  "orig_nbformat": 4
 },
 "nbformat": 4,
 "nbformat_minor": 2
}
