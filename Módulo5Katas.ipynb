{
 "cells": [
  {
   "cell_type": "code",
   "execution_count": null,
   "metadata": {},
   "outputs": [],
   "source": []
  },
  {
   "cell_type": "markdown",
   "metadata": {},
   "source": [
    "## Ejercicio 1- Utilizar operadores aritméticos"
   ]
  },
  {
   "cell_type": "code",
   "execution_count": null,
   "metadata": {},
   "outputs": [],
   "source": [
    "## Crear variables para almacenar las dos distancias\n",
    "\n",
    "distancia_tierra = 149597870 ## km\n",
    "distancia_jupiter = 778547200 ## km"
   ]
  },
  {
   "cell_type": "code",
   "execution_count": null,
   "metadata": {},
   "outputs": [],
   "source": [
    "## Realizar la operación \n",
    "distancia_planetas = abs(distancia_tierra - distancia_jupiter)\n",
    "distancia_planetas_milla = distancia_planetas * float('0.621')\n",
    "\n",
    "print(distancia_planetas)\n",
    "print(int(distancia_planetas_milla))\n"
   ]
  },
  {
   "cell_type": "markdown",
   "metadata": {},
   "source": [
    "## Ejercicio 2: Convierte cadenas en números y usa valores absolutos\n"
   ]
  },
  {
   "cell_type": "code",
   "execution_count": null,
   "metadata": {},
   "outputs": [],
   "source": [
    "### Lee los valores\n",
    "distancia_jupiter = input('Agregar distancia del sol al planeta Júpiter')\n",
    "distancia_tierra = input('Agregar distancia del sol al planeta Tierra')\n"
   ]
  },
  {
   "cell_type": "code",
   "execution_count": null,
   "metadata": {},
   "outputs": [],
   "source": [
    "### Convertir cadenas a números enteros\n",
    "distancia_jupiter = int(distancia_jupiter)\n",
    "distancia_tierra = int(distancia_tierra)\n"
   ]
  },
  {
   "cell_type": "code",
   "execution_count": null,
   "metadata": {},
   "outputs": [],
   "source": [
    "### Realizar el cálculo y determinar el valor absoluto\n",
    "\n",
    "distancia_planetas = abs(distancia_tierra - distancia_jupiter)\n",
    "print(distancia_planetas)\n",
    "\n",
    "\n",
    "### Convertir km a millas\n",
    "\n",
    "distancia_planetas_milla = distancia_planetas * float('0.621')\n",
    "print(int(distancia_planetas_milla))"
   ]
  }
 ],
 "metadata": {
  "interpreter": {
   "hash": "258000e747ac846164df80accd505ab1dbb6368f5070d80837aa544707bc40ee"
  },
  "kernelspec": {
   "display_name": "Python 3.10.2 64-bit",
   "language": "python",
   "name": "python3"
  },
  "language_info": {
   "codemirror_mode": {
    "name": "ipython",
    "version": 3
   },
   "file_extension": ".py",
   "mimetype": "text/x-python",
   "name": "python",
   "nbconvert_exporter": "python",
   "pygments_lexer": "ipython3",
   "version": "3.10.2"
  },
  "orig_nbformat": 4
 },
 "nbformat": 4,
 "nbformat_minor": 2
}
