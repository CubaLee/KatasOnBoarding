{
 "cells": [
  {
   "cell_type": "code",
   "execution_count": null,
   "metadata": {},
   "outputs": [],
   "source": []
  },
  {
   "cell_type": "markdown",
   "metadata": {},
   "source": [
    "## Ejercicio 1: Creación de diccionarios de Python"
   ]
  },
  {
   "cell_type": "code",
   "execution_count": null,
   "metadata": {},
   "outputs": [],
   "source": [
    "# Crear y modificar un diccionario\n",
    "planet = {\n",
    "    'name': 'Mars', \n",
    "    'moons': 2\n",
    "\n",
    "}"
   ]
  },
  {
   "cell_type": "code",
   "execution_count": null,
   "metadata": {},
   "outputs": [],
   "source": [
    "#  Muestra el nombre del planeta y el número de lunas que tiene\n",
    "\n",
    "print('Nombre del planeta:',planet.get('name'))\n",
    "print('Número de lunas que tiene el planeta:', planet.get('moons'))\n",
    "\n",
    "# Método alternativo\n",
    "#print(planet['name'])"
   ]
  },
  {
   "cell_type": "code",
   "execution_count": null,
   "metadata": {},
   "outputs": [],
   "source": [
    "#Agrega la clave circunferencia con los datos proporcionados\n",
    "\n",
    "planet['circunferencia (km)'] = {\n",
    "    'polar' : 6752,\n",
    "    'equatorial' : 6792\n",
    "\n",
    "}"
   ]
  },
  {
   "cell_type": "code",
   "execution_count": null,
   "metadata": {},
   "outputs": [],
   "source": [
    "# Imprime el nombre del planeta con su circunferencia polar\n",
    "\n",
    "print('Nombre del planeta:', planet['name'])\n",
    "print('Circunferencia polar del planeta:', planet['circunferencia (km)']['polar'])"
   ]
  },
  {
   "cell_type": "markdown",
   "metadata": {},
   "source": [
    "## Ejercicio 2: Programación dinámica con diccionarios"
   ]
  },
  {
   "cell_type": "code",
   "execution_count": null,
   "metadata": {},
   "outputs": [],
   "source": [
    "# Planetas y lunas\n",
    "\n",
    "planet_moons = {\n",
    "    'mercury': 0,\n",
    "    'venus': 0,\n",
    "    'earth': 1,\n",
    "    'mars': 2,\n",
    "    'jupiter': 79,\n",
    "    'saturn': 82,\n",
    "    'uranus': 27,\n",
    "    'neptune': 14,\n",
    "    'pluto': 5,\n",
    "    'haumea': 2,\n",
    "    'makemake': 1,\n",
    "    'eris': 1\n",
    "}"
   ]
  },
  {
   "cell_type": "code",
   "execution_count": null,
   "metadata": {},
   "outputs": [],
   "source": [
    "# Determinar el número de lunas\n",
    "\n",
    "moons = planet_moons.values()\n",
    "\n",
    "for planets in planet_moons:\n",
    "    if planets.endswith(\":\"):\n",
    "        planets = planets.values()\n",
    "    \n",
    " "
   ]
  },
  {
   "cell_type": "code",
   "execution_count": null,
   "metadata": {},
   "outputs": [],
   "source": [
    "# Contar el número de lunas\n",
    "\n",
    "total_moons = 0\n",
    "for moon in moons:\n",
    "    total_moons = total_moons + moon\n",
    "\n",
    "average = total_moons / planets\n",
    "print(average)"
   ]
  }
 ],
 "metadata": {
  "interpreter": {
   "hash": "258000e747ac846164df80accd505ab1dbb6368f5070d80837aa544707bc40ee"
  },
  "kernelspec": {
   "display_name": "Python 3.10.2 64-bit",
   "language": "python",
   "name": "python3"
  },
  "language_info": {
   "codemirror_mode": {
    "name": "ipython",
    "version": 3
   },
   "file_extension": ".py",
   "mimetype": "text/x-python",
   "name": "python",
   "nbconvert_exporter": "python",
   "pygments_lexer": "ipython3",
   "version": "3.10.2"
  },
  "orig_nbformat": 4
 },
 "nbformat": 4,
 "nbformat_minor": 2
}
